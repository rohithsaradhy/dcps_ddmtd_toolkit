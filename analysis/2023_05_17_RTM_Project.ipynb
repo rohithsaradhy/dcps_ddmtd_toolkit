{
 "cells": [
  {
   "cell_type": "code",
   "execution_count": 1,
   "id": "4feef4b8",
   "metadata": {},
   "outputs": [],
   "source": [
    "from tools.base import *\n",
    "from tools.ddmtd import *\n",
    "import pandas as pd\n",
    "import matplotlib.pyplot as plt\n",
    "import numpy as np\n",
    "from time import sleep \n",
    "from copy import deepcopy\n",
    "%load_ext autoreload\n",
    "%autoreload 2"
   ]
  },
  {
   "cell_type": "code",
   "execution_count": 2,
   "id": "f96253fc",
   "metadata": {},
   "outputs": [
    {
     "name": "stderr",
     "output_type": "stream",
     "text": [
      "/tmp/ipykernel_2492473/4264932307.py:3: MatplotlibDeprecationWarning: The seaborn styles shipped by Matplotlib are deprecated since 3.6, as they no longer correspond to the styles shipped by seaborn. However, they will remain available as 'seaborn-v0_8-<style>'. Alternatively, directly use the seaborn API instead.\n",
      "  matplotlib.style.use(['seaborn-darkgrid'])\n"
     ]
    }
   ],
   "source": [
    "import matplotlib\n",
    "matplotlib.style.available\n",
    "matplotlib.style.use(['seaborn-darkgrid'])\n",
    "# plt.rcParams['figure.figsize'] = [4, 3]\n",
    "plt.rcParams['figure.dpi'] = 300"
   ]
  },
  {
   "cell_type": "code",
   "execution_count": 3,
   "id": "c26ce2f2",
   "metadata": {},
   "outputs": [],
   "source": [
    "freq=160"
   ]
  },
  {
   "cell_type": "code",
   "execution_count": 4,
   "id": "9eaa15ad",
   "metadata": {},
   "outputs": [
    {
     "data": {
      "text/plain": [
       "'0b110'"
      ]
     },
     "execution_count": 4,
     "metadata": {},
     "output_type": "execute_result"
    }
   ],
   "source": [
    "bin(6)"
   ]
  },
  {
   "cell_type": "code",
   "execution_count": 5,
   "id": "0d54512d",
   "metadata": {},
   "outputs": [],
   "source": [
    "#Generate column names\n",
    "NUM_WORDS = 32\n",
    "column_names = []\n",
    "for i in range(1,NUM_WORDS+1):\n",
    "    column_names.append(f\"edge{i}\")\n",
    "    column_names.append(f\"ddmtd{i}\")\n",
    "    \n",
    "# pd.set_option('max_columns', None)\n",
    "# pd.set_option('max_rows', 100)"
   ]
  },
  {
   "cell_type": "code",
   "execution_count": 6,
   "id": "3bed84c7",
   "metadata": {},
   "outputs": [],
   "source": [
    "# freq=160\n",
    "# board_num = 4\n",
    "# server=\"board3_trenz\"\n",
    "# rpi_server=\"board3_pi\"\n",
    "# !../RPi/config_pll.sh {rpi_server} ../RPi/ 2021_10_05_Si5344H/OCXO/Si5344H-RevD-Registers_{freq}M.h 2021_10_05_Si5344H/PLL/Si5344H-RevD-Registers_{freq}M_100K.h {board_num}"
   ]
  },
  {
   "cell_type": "code",
   "execution_count": null,
   "id": "ee999120",
   "metadata": {},
   "outputs": [],
   "source": []
  },
  {
   "cell_type": "code",
   "execution_count": 7,
   "id": "c3b6ba90",
   "metadata": {},
   "outputs": [],
   "source": [
    "server=\"kria\"\n"
   ]
  },
  {
   "cell_type": "code",
   "execution_count": 8,
   "id": "759c20b3",
   "metadata": {},
   "outputs": [
    {
     "data": {
      "text/plain": [
       "3"
      ]
     },
     "execution_count": 8,
     "metadata": {},
     "output_type": "execute_result"
    }
   ],
   "source": [
    "0b11"
   ]
  },
  {
   "cell_type": "code",
   "execution_count": 9,
   "id": "fe9173db",
   "metadata": {},
   "outputs": [],
   "source": [
    "# def get_data(step,channel =5,folder=\"\",aq_iter = 100):\n",
    "#     data_folder = f\"data_files/{folder}/c{channel}_data_step_{str(step).zfill(3)}/\"\n",
    "#     !mkdir -p {data_folder}\n",
    "#     !../acq_software/run_atPi.sh ../acq_software/ {step} {channel} {rpi_server}\n",
    "#     !../acq_software/run_atKria.sh ../acq_software/ {aq_iter} {server}\n",
    "#     !sshpass -p \"root\" rsync -aP {server}:data_acq/data_files/ddmtd1.txt ./{data_folder}/ddmtd1.txt\n",
    "#     !sshpass -p \"root\" rsync -aP {server}:data_acq/data_files/ddmtd2.txt ./{data_folder}/ddmtd2.txt\n",
    "#     !sshpass -p \"root\" rsync -aP {server}:data_acq/data_files/ddmtd3.txt ./{data_folder}/ddmtd3.txt\n",
    "\n",
    "\n",
    "def get_data(fine_delay,coarse_delay ,channel =5,folder=\"\",aq_iter = 10):\n",
    "    data_folder = f\"data_files/{folder}/c{channel}_fstep_{str(fine_delay).zfill(3)}_cstep_{str(coarse_delay).zfill(3)}\"\n",
    "    !mkdir -p {data_folder}\n",
    "    !../acq_software/run_atKria.sh ../acq_software/ {aq_iter} {server}\n",
    "    !rsync -aP {server}:data_acq/data_files/ddmtd1.txt ./{data_folder}/ddmtd1.txt\n",
    "    !rsync -aP {server}:data_acq/data_files/ddmtd2.txt ./{data_folder}/ddmtd2.txt\n",
    "    !rsync -aP {server}:data_acq/data_files/ddmtd3.txt ./{data_folder}/ddmtd3.txt\n",
    "        \n",
    "        \n",
    "#def debug_spi(fine_delay,coarse_delay ,channel =5,folder=\"\",aq_iter = 100):\n",
    "#    data_folder = f\"data_files/{folder}/c{channel}_fstep_{str(fine_delay).zfill(3)}_cstep_{str(coarse_delay).zfill(3)}\"\n",
    "#    !mkdir -p {data_folder}\n",
    "#    !../acq_software/run_atPi.sh ../acq_software/ {fine_delay} {coarse_delay} {channel} {rpi_server}\n",
    "#     !../acq_software/run_atKria.sh ../acq_software/ {aq_iter} {server}\n",
    "#     !rsync -aP {server}:data_acq/data_files/ddmtd1.txt ./{data_folder}/ddmtd1.txt\n",
    "#     !rsync -aP {server}:data_acq/data_files/ddmtd2.txt ./{data_folder}/ddmtd2.txt\n",
    "#     !rsync -aP {server}:data_acq/data_files/ddmtd3.txt ./{data_folder}/ddmtd3.txt\n",
    "        \n",
    "        \n",
    "        \n",
    "\n",
    "def plot_data(fine_delay=0,coarse_delay=0,channel =10,folder=\"\",freq=160*10**6,data_stream = (1,3),draw=False):   \n",
    "    df = data2df(fine_delay\n",
    "             ,coarse_delay\n",
    "             ,channel=channel\n",
    "             ,folder=folder\n",
    "             ,freq = freq\n",
    "             ,data_stream = data_stream\n",
    "            )\n",
    "#     popt,p_err = df.drawTIE(save_name='',bns=None,fit=True, sep=\"TIE_FALL\")\n",
    "    popt,p_err = df.drawTIE(save_name='',bns=None,fit=True, sep=\"\",draw=draw)\n",
    "    \n",
    "\n",
    "\n",
    "    return (popt[1]*1000,p_err[1]*1000)\n",
    "    \n",
    "    \n",
    "\n",
    "def plot_tie(tie):\n",
    "    f,ax = plt.subplots(figsize=(8,6))\n",
    "    \n",
    "    ax.errorbar(tie[0],tie[1],yerr=tie[2],fmt='o',\n",
    "#                         color='red',\n",
    "                        capsize=5,\n",
    "                        ecolor='black'\n",
    "                        ,label=f'ODD'\n",
    "                       )\n",
    "#     ax.errorbar(tie[0],tie[3],yerr=tie[4],fmt='o',\n",
    "# #                         color='red',\n",
    "#                         capsize=5,\n",
    "#                         ecolor='black'\n",
    "#                         ,label=f'EVEN'\n",
    "#                        )\n",
    "    plt.xlabel(\"Delay cell index\", fontsize=15)\n",
    "    plt.ylabel(\"TIE [ps] staggered\", fontsize=15)\n",
    "    plt.legend(loc=\"upper right\")\n",
    "    plt.gca().grid()\n",
    "    \n",
    "def data2df(fine_delay=0,coarse_delay=0,channel =5,folder=\"\",freq=160*10**6, data_stream = (1,3)):\n",
    "    data_folder = f\"data_files/{folder}/c{channel}_fstep_{str(fine_delay).zfill(3)}_cstep_{str(coarse_delay).zfill(3)}\"\n",
    "    dv1= pd.read_csv(f\"{data_folder}/ddmtd1.txt\",sep=\",\",header=0 ,skiprows=0,names=column_names[0:16])\n",
    "    dv2= pd.read_csv(f\"{data_folder}/ddmtd2.txt\",sep=\",\",header=0 ,skiprows=0,names=column_names[16:32])\n",
    "    dv3= pd.read_csv(f\"{data_folder}/ddmtd3.txt\",sep=\",\",header=0 ,skiprows=0,names=column_names[32:48])\n",
    "    dv = pd.concat((dv1,dv2,dv3),axis=1)  \n",
    "#     dv = dv1\n",
    "#     df = deepcopy(dv[(dv.T != 0).any()])\n",
    "#     df = df.reset_index(drop=1)ore loop\n",
    "\n",
    "    df = deepcopy(dv)\n",
    "#     return df \n",
    "#     df = df[df.ddmt d3!=2147483647].reset_index(drop=1).drop([0,1,2])    \n",
    "#     df.iloc[0,:]=0\n",
    "#     return df\n",
    "    data = ddmtd(deepcopy(df),q=1,channel=data_stream)\n",
    "    data.N=100000\n",
    "    data.INPUT_FREQ = freq\n",
    "    data.Recalc()\n",
    "    return data \n",
    "\n",
    "#def config_dcps(step,channel):\n",
    "#    !../acq_software/run_atPi.sh ../acq_software/ {step} {channel} {rpi_server}\n",
    "\n",
    "\n",
    "#Nishant remove sshpass and use scp -r\n",
    "#Just use rsync -aP ub\n",
    "def get_data_debug(step,channel =5,folder=\"\",aq_iter = 100,sleep_time=20000):\n",
    "    data_folder = f\"data_files/{folder}/c{channel}_data_step_{str(step).zfill(3)}/\"\n",
    "    !mkdir -p {data_folder}\n",
    "    !../acq_software/run_atKria.sh ../acq_software/ {aq_iter} {server} {sleep_time}\n",
    "    !rsync -aP {server}:~/dcps_ddmtd_toolkit/acq_software/data_acq/data_files/ddmtd1.txt ./{data_folder}/ddmtd1.txt\n",
    "    !rsync -aP {server}:~/dcps_ddmtd_toolkit/acq_software/data_acq/data_files/ddmtd2.txt ./{data_folder}/ddmtd2.txt\n",
    "    !rsync -aP {server}:~/dcps_ddmtd_toolkit/acq_software/data_acq/data_files/ddmtd3.txt ./{data_folder}/ddmtd3.txt\n",
    "        \n",
    "        \n",
    "def copy_data(step,channel =5,folder=\"\",aq_iter = 100,sleep_time=20000):\n",
    "    data_folder = f\"data_files/{folder}/c{channel}_data_step_{str(step).zfill(3)}/\"\n",
    "    !mkdir -p {data_folder}\n",
    "    !rsync -aP {server}:~/dcps_ddmtd_toolkit/acq_software/data_acq/data_files/ddmtd1.txt ./{data_folder}/ddmtd1.txt\n",
    "    !rsync -aP {server}:~/dcps_ddmtd_toolkit/acq_software/data_acq/data_files/ddmtd2.txt ./{data_folder}/ddmtd2.txt\n",
    "    !rsync -aP {server}:~/dcps_ddmtd_toolkit/acq_software/data_acq/data_files/ddmtd3.txt ./{data_folder}/ddmtd3.txt"
   ]
  },
  {
   "cell_type": "code",
   "execution_count": 10,
   "id": "0e3d0fb0",
   "metadata": {},
   "outputs": [],
   "source": [
    "#Nishant commenting out\n",
    "#board_num = 4\n",
    "\n",
    "# for i in range(100):\n",
    "#!../RPi/config_pll.sh {rpi_server} ../RPi/ 2021_10_05_Si5344/OCXO/Si5344-RevD-Registers_{freq}M.h 2021_10_05_Si5344/PLL/Si5344-RevD-Registers_{freq}M_100K.h {board_num}\n",
    "\n",
    "# board_num=3\n",
    "# !../RPi/config_pll.sh {rpi_server} ../RPi/ 2021_10_05_Si5344H/OCXO/Si5344H-RevD-Registers_{freq}M.h 2021_10_05_Si5344H/PLL/Si5344H-RevD-Registers_{freq}M_100K.h {board_num}"
   ]
  },
  {
   "cell_type": "code",
   "execution_count": 11,
   "id": "f9febd5d",
   "metadata": {},
   "outputs": [],
   "source": [
    "#Nishant When running the notebook use the current date\n",
    "folder_name = f\"2023_05_16_{freq}MHz\""
   ]
  },
  {
   "cell_type": "code",
   "execution_count": 12,
   "id": "dc071a72",
   "metadata": {},
   "outputs": [],
   "source": [
    "\n",
    "# for i in range(100):\n",
    "#     debug_spi(0,16,channel=4,folder=folder_name,aq_iter=100)\n",
    "#     sleep(.1)\n",
    "# #     debug_spi(0,16,channel=5,folder=folder_name,aq_iter=100)\n",
    "# #     sleep(.1)\n",
    "\n",
    "\n"
   ]
  },
  {
   "cell_type": "code",
   "execution_count": 13,
   "id": "781e2825",
   "metadata": {
    "scrolled": false
   },
   "outputs": [],
   "source": [
    "# for i in range(6):\n",
    "#     debug_spi(0,16,channel=i,folder=folder_name,aq_iter=100)\n",
    "#     sleep(1)"
   ]
  },
  {
   "cell_type": "code",
   "execution_count": 14,
   "id": "d758bc86",
   "metadata": {},
   "outputs": [],
   "source": [
    "#channel\n",
    "\n",
    "\n"
   ]
  },
  {
   "cell_type": "code",
   "execution_count": 15,
   "id": "4c2e8c66",
   "metadata": {},
   "outputs": [
    {
     "name": "stdout",
     "output_type": "stream",
     "text": [
      "Copying Data_acq Folder\n",
      "do_load.sh                                    100%  143   103.5KB/s   00:00    \n",
      "list-gpio-lines.c                             100% 2168     2.0MB/s   00:00    \n",
      "compile.sh                                    100%  520   601.0KB/s   00:00    \n",
      "dma-proxy-test.c                              100% 4480     4.3MB/s   00:00    \n",
      "get_data_bram.c                               100% 9854     7.0MB/s   00:00    \n",
      "get_data2.c                                   100% 5263     4.8MB/s   00:00    \n",
      "dma-proxy.h                                   100%  702   894.8KB/s   00:00    \n",
      "stream_shared.h                               100%  489   605.6KB/s   00:00    \n",
      "dma_acq.h                                     100% 2194     2.3MB/s   00:00    \n",
      "get_data.c                                    100% 3488     3.5MB/s   00:00    \n",
      "main.hwdef                                    100%  714KB   8.6MB/s   00:00    \n",
      "main.hwdef                                    100%  714KB  56.0MB/s   00:00    \n",
      "design_1.bda                                  100% 5358   121.3KB/s   00:00    \n",
      "dma_acq.c                                     100% 7740     5.0MB/s   00:00    \n",
      "stream_shared.c                               100% 1957     2.1MB/s   00:00    \n",
      "get_data_driver.c                             100% 2130     2.4MB/s   00:00    \n",
      ".DS_Store                                     100% 6148     5.8MB/s   00:00    \n",
      "Running & Compiling Section\n",
      "Compiling get_data_bram\n",
      "get_data_bram compiled\n",
      "Running get_data_bram\n",
      "remove from slot 0 returns: 0 (Ok)\n",
      "bram: loaded to slot 0\n",
      "nice: cannot set niceness: Permission denied\n",
      "Firmware Version: 2.4 \n",
      " remove from slot 0 returns: 0 (Ok)\n",
      "receiving incremental file list\n",
      "ddmtd1.txt\n",
      "        850,594 100%   12.11MB/s    0:00:00 (xfr#1, to-chk=0/1)\n",
      "receiving incremental file list\n",
      "ddmtd2.txt\n",
      "        925,729 100%   12.98MB/s    0:00:00 (xfr#1, to-chk=0/1)\n",
      "receiving incremental file list\n",
      "ddmtd3.txt\n",
      "        926,290 100%   12.99MB/s    0:00:00 (xfr#1, to-chk=0/1)\n",
      "Copying Data_acq Folder\n",
      "do_load.sh                                    100%  143    11.9KB/s   00:00    \n",
      "list-gpio-lines.c                             100% 2168     1.9MB/s   00:00    \n",
      "compile.sh                                    100%  520   603.2KB/s   00:00    \n",
      "dma-proxy-test.c                              100% 4480     4.0MB/s   00:00    \n",
      "get_data_bram.c                               100% 9854     4.4MB/s   00:00    \n",
      "get_data2.c                                   100% 5263     4.7MB/s   00:00    \n",
      "dma-proxy.h                                   100%  702   761.8KB/s   00:00    \n",
      "stream_shared.h                               100%  489   580.7KB/s   00:00    \n",
      "dma_acq.h                                     100% 2194     2.0MB/s   00:00    \n",
      "get_data.c                                    100% 3488     3.4MB/s   00:00    \n",
      "main.hwdef                                    100%  714KB  14.4MB/s   00:00    \n",
      "main.hwdef                                    100%  714KB  67.7MB/s   00:00    \n",
      "design_1.bda                                  100% 5358     4.9MB/s   00:00    \n",
      "dma_acq.c                                     100% 7740     6.7MB/s   00:00    \n",
      "stream_shared.c                               100% 1957     2.2MB/s   00:00    \n",
      "get_data_driver.c                             100% 2130     2.1MB/s   00:00    \n",
      ".DS_Store                                     100% 6148   128.2KB/s   00:00    \n",
      "Running & Compiling Section\n",
      "Compiling get_data_bram\n",
      "get_data_bram compiled\n",
      "Running get_data_bram\n",
      "remove from slot 0 returns: -1 (Error)\n",
      "bram: loaded to slot 0\n",
      "nice: cannot set niceness: Permission denied\n",
      "Firmware Version: 2.4 \n",
      " remove from slot 0 returns: 0 (Ok)\n",
      "receiving incremental file list\n",
      "ddmtd1.txt\n",
      "        850,594 100%   67.60MB/s    0:00:00 (xfr#1, to-chk=0/1)\n",
      "receiving incremental file list\n",
      "ddmtd2.txt\n",
      "        925,729 100%   51.93MB/s    0:00:00 (xfr#1, to-chk=0/1)\n",
      "receiving incremental file list\n",
      "ddmtd3.txt\n",
      "        926,290 100%   51.96MB/s    0:00:00 (xfr#1, to-chk=0/1)\n",
      "Copying Data_acq Folder\n",
      "do_load.sh                                    100%  143   163.5KB/s   00:00    \n",
      "list-gpio-lines.c                             100% 2168     2.2MB/s   00:00    \n",
      "compile.sh                                    100%  520   658.2KB/s   00:00    \n",
      "dma-proxy-test.c                              100% 4480     3.2MB/s   00:00    \n",
      "get_data_bram.c                               100% 9854     4.7MB/s   00:00    \n",
      "get_data2.c                                   100% 5263     4.9MB/s   00:00    \n",
      "dma-proxy.h                                   100%  702   787.4KB/s   00:00    \n",
      "stream_shared.h                               100%  489   561.6KB/s   00:00    \n",
      "dma_acq.h                                     100% 2194     2.3MB/s   00:00    \n",
      "get_data.c                                    100% 3488     2.6MB/s   00:00    \n",
      "main.hwdef                                    100%  714KB  13.8MB/s   00:00    \n",
      "main.hwdef                                    100%  714KB  65.0MB/s   00:00    \n",
      "design_1.bda                                  100% 5358     4.9MB/s   00:00    \n",
      "dma_acq.c                                     100% 7740     6.2MB/s   00:00    \n",
      "stream_shared.c                               100% 1957     2.1MB/s   00:00    \n",
      "get_data_driver.c                             100% 2130     2.0MB/s   00:00    \n",
      ".DS_Store                                     100% 6148   139.5KB/s   00:00    \n",
      "Running & Compiling Section\n",
      "Compiling get_data_bram\n",
      "get_data_bram compiled\n",
      "Running get_data_bram\n",
      "remove from slot 0 returns: -1 (Error)\n",
      "bram: loaded to slot 0\n",
      "nice: cannot set niceness: Permission denied\n",
      "Firmware Version: 2.4 \n",
      " remove from slot 0 returns: 0 (Ok)\n",
      "receiving incremental file list\n",
      "ddmtd1.txt\n",
      "        850,594 100%   67.60MB/s    0:00:00 (xfr#1, to-chk=0/1)\n",
      "receiving incremental file list\n",
      "ddmtd2.txt\n",
      "        925,729 100%   51.93MB/s    0:00:00 (xfr#1, to-chk=0/1)\n",
      "receiving incremental file list\n",
      "ddmtd3.txt\n",
      "        926,290 100%   67.95MB/s    0:00:00 (xfr#1, to-chk=0/1)\n"
     ]
    }
   ],
   "source": [
    "#Change date to current date of executing the script\n",
    "# channel = 0\n",
    "# get_data(0,0,channel=channel,folder=folder_name,aq_iter=10)\n",
    "channel = 1\n",
    "get_data(0,0,channel=channel,folder=folder_name,aq_iter=10)\n",
    "df1 = pd.read_csv(f\"{data_save_folder+run_name}_ddmtd1.txt\",names=['edge1','ddmtd1'])\n",
    "df2 = pd.read_csv(f\"{data_save_folder+run_name}_ddmtd2.txt\",names=['edge2','ddmtd2'])\n",
    "df = pd.concat((df1,df2),axis=1)\n",
    "\n",
    "channel = 2\n",
    "get_data(0,0,channel=channel,folder=folder_name,aq_iter=10)"
   ]
  },
  {
   "cell_type": "code",
   "execution_count": 16,
   "id": "44d33930",
   "metadata": {},
   "outputs": [],
   "source": [
    "#get_data(24,0,channel=channel,folder=folder_name,aq_iter=100)"
   ]
  },
  {
   "cell_type": "code",
   "execution_count": 17,
   "id": "0a3e0265",
   "metadata": {},
   "outputs": [],
   "source": [
    "# #This requires the actual DDMTD\n",
    "# X  = []\n",
    "# Y  = []\n",
    "# Ye = []\n",
    "# for f_step in range(0,32):\n",
    "#     try:\n",
    "#         tie,tie_err = plot_data(f_step\n",
    "#              ,0\n",
    "#              ,channel=channel\n",
    "#              ,folder=folder_name\n",
    "#              ,freq = freq*10**6\n",
    "#              ,data_stream = (2,10)\n",
    "#              ,draw=False\n",
    "#                 )\n",
    "#         X.append(f_step)\n",
    "#         Y.append(tie)\n",
    "#         Ye.append(tie_err)\n",
    "#     except:\n",
    "#         print(f\"{f_step} lost\")"
   ]
  },
  {
   "cell_type": "code",
   "execution_count": 18,
   "id": "b25b513c",
   "metadata": {},
   "outputs": [],
   "source": [
    "# x = np.asarray(X)\n",
    "# y = np.abs(np.asarray(Y) - Y[0])\n",
    "# y_err = np.asarray(Ye)\n",
    "# f,ax = plt.subplots()\n",
    "\n",
    "# popt,pcov = np.polyfit(x,y,1,cov=True)\n",
    "# p_e = np.sqrt(np.diag(pcov))\n",
    "\n",
    "# ax.scatter(x,y)\n",
    "# ax.plot(x,popt[0]*x+popt[1],color=\"r\",linestyle='--',label=f\"Channel 0 \\n{popt[0]:4.3}+/- {p_e[0]:4.2} [ps/step]\")\n",
    "# ax.set_ylabel(\"Delay [ps]\")\n",
    "# ax.set_xlabel(\"Fine Step\")\n",
    "# ax.legend(loc=\"upper left\",fontsize=10)"
   ]
  },
  {
   "cell_type": "code",
   "execution_count": 19,
   "id": "338c468e",
   "metadata": {},
   "outputs": [],
   "source": [
    "# channel = 0\n",
    "# get_data(0,0,channel=channel,folder=folder_name,aq_iter=100)"
   ]
  },
  {
   "cell_type": "code",
   "execution_count": 20,
   "id": "4accfc28",
   "metadata": {
    "scrolled": true
   },
   "outputs": [
    {
     "name": "stdout",
     "output_type": "stream",
     "text": [
      "Copying Data_acq Folder\n",
      "do_load.sh                                    100%  143   168.7KB/s   00:00    \n",
      "list-gpio-lines.c                             100% 2168     2.3MB/s   00:00    \n",
      "compile.sh                                    100%  520   723.2KB/s   00:00    \n",
      "dma-proxy-test.c                              100% 4480     4.4MB/s   00:00    \n",
      "get_data_bram.c                               100% 9854     8.5MB/s   00:00    \n",
      "get_data2.c                                   100% 5263     3.1MB/s   00:00    \n",
      "dma-proxy.h                                   100%  702   975.2KB/s   00:00    \n",
      "stream_shared.h                               100%  489   696.9KB/s   00:00    \n",
      "dma_acq.h                                     100% 2194     2.6MB/s   00:00    \n",
      "get_data.c                                    100% 3488     3.9MB/s   00:00    \n",
      "dma_acq.c                                     100% 7740     4.8MB/s   00:00    \n",
      "stream_shared.c                               100% 1957     2.2MB/s   00:00    \n",
      "get_data_driver.c                             100% 2130     2.4MB/s   00:00    \n",
      ".DS_Store                                     100% 6148     6.2MB/s   00:00    \n",
      "Running & Compiling Section\n",
      "Compiling get_data_bram\n",
      "get_data_bram compiled\n",
      "Running get_data_bram\n",
      "remove from slot 0 returns: -1 (Error)\n",
      "bram: loaded to slot 0\n",
      "nice: cannot set niceness: Permission denied\n",
      "Firmware Version: 2.4 \n",
      " remove from slot 0 returns: 0 (Ok)\n",
      "receiving incremental file list\n",
      "ddmtd1.txt\n",
      "        850,594 100%   12.88MB/s    0:00:00 (xfr#1, to-chk=0/1)\n",
      "receiving incremental file list\n",
      "ddmtd2.txt\n",
      "        925,729 100%   12.98MB/s    0:00:00 (xfr#1, to-chk=0/1)\n",
      "receiving incremental file list\n",
      "ddmtd3.txt\n",
      "        926,290 100%   12.80MB/s    0:00:00 (xfr#1, to-chk=0/1)\n"
     ]
    }
   ],
   "source": [
    "#Nishant comment\n",
    "channel = 0\n",
    "get_data(0,0,channel=channel,folder=folder_name,aq_iter=10)"
   ]
  },
  {
   "cell_type": "code",
   "execution_count": 21,
   "id": "9e21b0e8",
   "metadata": {},
   "outputs": [
    {
     "ename": "FileNotFoundError",
     "evalue": "[Errno 2] No such file or directory: 'data_files/2023_05_16_160MHz/c0_fstep_000_cstep_001/ddmtd1.txt'",
     "output_type": "error",
     "traceback": [
      "\u001b[0;31m---------------------------------------------------------------------------\u001b[0m",
      "\u001b[0;31mFileNotFoundError\u001b[0m                         Traceback (most recent call last)",
      "Cell \u001b[0;32mIn[21], line 1\u001b[0m\n\u001b[0;32m----> 1\u001b[0m tie,tie_err \u001b[38;5;241m=\u001b[39m \u001b[43mplot_data\u001b[49m\u001b[43m(\u001b[49m\u001b[38;5;241;43m0\u001b[39;49m\n\u001b[1;32m      2\u001b[0m \u001b[43m                 \u001b[49m\u001b[43m,\u001b[49m\u001b[38;5;241;43m1\u001b[39;49m\n\u001b[1;32m      3\u001b[0m \u001b[43m                 \u001b[49m\u001b[43m,\u001b[49m\u001b[43mchannel\u001b[49m\u001b[38;5;241;43m=\u001b[39;49m\u001b[43mchannel\u001b[49m\n\u001b[1;32m      4\u001b[0m \u001b[43m                 \u001b[49m\u001b[43m,\u001b[49m\u001b[43mfolder\u001b[49m\u001b[38;5;241;43m=\u001b[39;49m\u001b[43mfolder_name\u001b[49m\n\u001b[1;32m      5\u001b[0m \u001b[43m                 \u001b[49m\u001b[43m,\u001b[49m\u001b[43mfreq\u001b[49m\u001b[43m \u001b[49m\u001b[38;5;241;43m=\u001b[39;49m\u001b[43m \u001b[49m\u001b[43mfreq\u001b[49m\u001b[38;5;241;43m*\u001b[39;49m\u001b[38;5;241;43m10\u001b[39;49m\u001b[38;5;241;43m*\u001b[39;49m\u001b[38;5;241;43m*\u001b[39;49m\u001b[38;5;241;43m6\u001b[39;49m\n\u001b[1;32m      6\u001b[0m \u001b[43m                 \u001b[49m\u001b[43m,\u001b[49m\u001b[43mdata_stream\u001b[49m\u001b[43m \u001b[49m\u001b[38;5;241;43m=\u001b[39;49m\u001b[43m \u001b[49m\u001b[43m(\u001b[49m\u001b[38;5;241;43m11\u001b[39;49m\u001b[43m,\u001b[49m\u001b[38;5;241;43m7\u001b[39;49m\u001b[43m)\u001b[49m\n\u001b[1;32m      7\u001b[0m \u001b[43m                 \u001b[49m\u001b[43m,\u001b[49m\u001b[43mdraw\u001b[49m\u001b[38;5;241;43m=\u001b[39;49m\u001b[38;5;28;43;01mTrue\u001b[39;49;00m\n\u001b[1;32m      8\u001b[0m \u001b[43m                    \u001b[49m\u001b[43m)\u001b[49m\n",
      "Cell \u001b[0;32mIn[9], line 33\u001b[0m, in \u001b[0;36mplot_data\u001b[0;34m(fine_delay, coarse_delay, channel, folder, freq, data_stream, draw)\u001b[0m\n\u001b[1;32m     32\u001b[0m \u001b[38;5;28;01mdef\u001b[39;00m \u001b[38;5;21mplot_data\u001b[39m(fine_delay\u001b[38;5;241m=\u001b[39m\u001b[38;5;241m0\u001b[39m,coarse_delay\u001b[38;5;241m=\u001b[39m\u001b[38;5;241m0\u001b[39m,channel \u001b[38;5;241m=\u001b[39m\u001b[38;5;241m10\u001b[39m,folder\u001b[38;5;241m=\u001b[39m\u001b[38;5;124m\"\u001b[39m\u001b[38;5;124m\"\u001b[39m,freq\u001b[38;5;241m=\u001b[39m\u001b[38;5;241m160\u001b[39m\u001b[38;5;241m*\u001b[39m\u001b[38;5;241m10\u001b[39m\u001b[38;5;241m*\u001b[39m\u001b[38;5;241m*\u001b[39m\u001b[38;5;241m6\u001b[39m,data_stream \u001b[38;5;241m=\u001b[39m (\u001b[38;5;241m1\u001b[39m,\u001b[38;5;241m3\u001b[39m),draw\u001b[38;5;241m=\u001b[39m\u001b[38;5;28;01mFalse\u001b[39;00m):   \n\u001b[0;32m---> 33\u001b[0m     df \u001b[38;5;241m=\u001b[39m \u001b[43mdata2df\u001b[49m\u001b[43m(\u001b[49m\u001b[43mfine_delay\u001b[49m\n\u001b[1;32m     34\u001b[0m \u001b[43m             \u001b[49m\u001b[43m,\u001b[49m\u001b[43mcoarse_delay\u001b[49m\n\u001b[1;32m     35\u001b[0m \u001b[43m             \u001b[49m\u001b[43m,\u001b[49m\u001b[43mchannel\u001b[49m\u001b[38;5;241;43m=\u001b[39;49m\u001b[43mchannel\u001b[49m\n\u001b[1;32m     36\u001b[0m \u001b[43m             \u001b[49m\u001b[43m,\u001b[49m\u001b[43mfolder\u001b[49m\u001b[38;5;241;43m=\u001b[39;49m\u001b[43mfolder\u001b[49m\n\u001b[1;32m     37\u001b[0m \u001b[43m             \u001b[49m\u001b[43m,\u001b[49m\u001b[43mfreq\u001b[49m\u001b[43m \u001b[49m\u001b[38;5;241;43m=\u001b[39;49m\u001b[43m \u001b[49m\u001b[43mfreq\u001b[49m\n\u001b[1;32m     38\u001b[0m \u001b[43m             \u001b[49m\u001b[43m,\u001b[49m\u001b[43mdata_stream\u001b[49m\u001b[43m \u001b[49m\u001b[38;5;241;43m=\u001b[39;49m\u001b[43m \u001b[49m\u001b[43mdata_stream\u001b[49m\n\u001b[1;32m     39\u001b[0m \u001b[43m            \u001b[49m\u001b[43m)\u001b[49m\n\u001b[1;32m     40\u001b[0m \u001b[38;5;66;03m#     popt,p_err = df.drawTIE(save_name='',bns=None,fit=True, sep=\"TIE_FALL\")\u001b[39;00m\n\u001b[1;32m     41\u001b[0m     popt,p_err \u001b[38;5;241m=\u001b[39m df\u001b[38;5;241m.\u001b[39mdrawTIE(save_name\u001b[38;5;241m=\u001b[39m\u001b[38;5;124m'\u001b[39m\u001b[38;5;124m'\u001b[39m,bns\u001b[38;5;241m=\u001b[39m\u001b[38;5;28;01mNone\u001b[39;00m,fit\u001b[38;5;241m=\u001b[39m\u001b[38;5;28;01mTrue\u001b[39;00m, sep\u001b[38;5;241m=\u001b[39m\u001b[38;5;124m\"\u001b[39m\u001b[38;5;124m\"\u001b[39m,draw\u001b[38;5;241m=\u001b[39mdraw)\n",
      "Cell \u001b[0;32mIn[9], line 71\u001b[0m, in \u001b[0;36mdata2df\u001b[0;34m(fine_delay, coarse_delay, channel, folder, freq, data_stream)\u001b[0m\n\u001b[1;32m     69\u001b[0m \u001b[38;5;28;01mdef\u001b[39;00m \u001b[38;5;21mdata2df\u001b[39m(fine_delay\u001b[38;5;241m=\u001b[39m\u001b[38;5;241m0\u001b[39m,coarse_delay\u001b[38;5;241m=\u001b[39m\u001b[38;5;241m0\u001b[39m,channel \u001b[38;5;241m=\u001b[39m\u001b[38;5;241m5\u001b[39m,folder\u001b[38;5;241m=\u001b[39m\u001b[38;5;124m\"\u001b[39m\u001b[38;5;124m\"\u001b[39m,freq\u001b[38;5;241m=\u001b[39m\u001b[38;5;241m160\u001b[39m\u001b[38;5;241m*\u001b[39m\u001b[38;5;241m10\u001b[39m\u001b[38;5;241m*\u001b[39m\u001b[38;5;241m*\u001b[39m\u001b[38;5;241m6\u001b[39m, data_stream \u001b[38;5;241m=\u001b[39m (\u001b[38;5;241m1\u001b[39m,\u001b[38;5;241m3\u001b[39m)):\n\u001b[1;32m     70\u001b[0m     data_folder \u001b[38;5;241m=\u001b[39m \u001b[38;5;124mf\u001b[39m\u001b[38;5;124m\"\u001b[39m\u001b[38;5;124mdata_files/\u001b[39m\u001b[38;5;132;01m{\u001b[39;00mfolder\u001b[38;5;132;01m}\u001b[39;00m\u001b[38;5;124m/c\u001b[39m\u001b[38;5;132;01m{\u001b[39;00mchannel\u001b[38;5;132;01m}\u001b[39;00m\u001b[38;5;124m_fstep_\u001b[39m\u001b[38;5;132;01m{\u001b[39;00m\u001b[38;5;28mstr\u001b[39m(fine_delay)\u001b[38;5;241m.\u001b[39mzfill(\u001b[38;5;241m3\u001b[39m)\u001b[38;5;132;01m}\u001b[39;00m\u001b[38;5;124m_cstep_\u001b[39m\u001b[38;5;132;01m{\u001b[39;00m\u001b[38;5;28mstr\u001b[39m(coarse_delay)\u001b[38;5;241m.\u001b[39mzfill(\u001b[38;5;241m3\u001b[39m)\u001b[38;5;132;01m}\u001b[39;00m\u001b[38;5;124m\"\u001b[39m\n\u001b[0;32m---> 71\u001b[0m     dv1\u001b[38;5;241m=\u001b[39m \u001b[43mpd\u001b[49m\u001b[38;5;241;43m.\u001b[39;49m\u001b[43mread_csv\u001b[49m\u001b[43m(\u001b[49m\u001b[38;5;124;43mf\u001b[39;49m\u001b[38;5;124;43m\"\u001b[39;49m\u001b[38;5;132;43;01m{\u001b[39;49;00m\u001b[43mdata_folder\u001b[49m\u001b[38;5;132;43;01m}\u001b[39;49;00m\u001b[38;5;124;43m/ddmtd1.txt\u001b[39;49m\u001b[38;5;124;43m\"\u001b[39;49m\u001b[43m,\u001b[49m\u001b[43msep\u001b[49m\u001b[38;5;241;43m=\u001b[39;49m\u001b[38;5;124;43m\"\u001b[39;49m\u001b[38;5;124;43m,\u001b[39;49m\u001b[38;5;124;43m\"\u001b[39;49m\u001b[43m,\u001b[49m\u001b[43mheader\u001b[49m\u001b[38;5;241;43m=\u001b[39;49m\u001b[38;5;241;43m0\u001b[39;49m\u001b[43m \u001b[49m\u001b[43m,\u001b[49m\u001b[43mskiprows\u001b[49m\u001b[38;5;241;43m=\u001b[39;49m\u001b[38;5;241;43m0\u001b[39;49m\u001b[43m,\u001b[49m\u001b[43mnames\u001b[49m\u001b[38;5;241;43m=\u001b[39;49m\u001b[43mcolumn_names\u001b[49m\u001b[43m[\u001b[49m\u001b[38;5;241;43m0\u001b[39;49m\u001b[43m:\u001b[49m\u001b[38;5;241;43m16\u001b[39;49m\u001b[43m]\u001b[49m\u001b[43m)\u001b[49m\n\u001b[1;32m     72\u001b[0m     dv2\u001b[38;5;241m=\u001b[39m pd\u001b[38;5;241m.\u001b[39mread_csv(\u001b[38;5;124mf\u001b[39m\u001b[38;5;124m\"\u001b[39m\u001b[38;5;132;01m{\u001b[39;00mdata_folder\u001b[38;5;132;01m}\u001b[39;00m\u001b[38;5;124m/ddmtd2.txt\u001b[39m\u001b[38;5;124m\"\u001b[39m,sep\u001b[38;5;241m=\u001b[39m\u001b[38;5;124m\"\u001b[39m\u001b[38;5;124m,\u001b[39m\u001b[38;5;124m\"\u001b[39m,header\u001b[38;5;241m=\u001b[39m\u001b[38;5;241m0\u001b[39m ,skiprows\u001b[38;5;241m=\u001b[39m\u001b[38;5;241m0\u001b[39m,names\u001b[38;5;241m=\u001b[39mcolumn_names[\u001b[38;5;241m16\u001b[39m:\u001b[38;5;241m32\u001b[39m])\n\u001b[1;32m     73\u001b[0m     dv3\u001b[38;5;241m=\u001b[39m pd\u001b[38;5;241m.\u001b[39mread_csv(\u001b[38;5;124mf\u001b[39m\u001b[38;5;124m\"\u001b[39m\u001b[38;5;132;01m{\u001b[39;00mdata_folder\u001b[38;5;132;01m}\u001b[39;00m\u001b[38;5;124m/ddmtd3.txt\u001b[39m\u001b[38;5;124m\"\u001b[39m,sep\u001b[38;5;241m=\u001b[39m\u001b[38;5;124m\"\u001b[39m\u001b[38;5;124m,\u001b[39m\u001b[38;5;124m\"\u001b[39m,header\u001b[38;5;241m=\u001b[39m\u001b[38;5;241m0\u001b[39m ,skiprows\u001b[38;5;241m=\u001b[39m\u001b[38;5;241m0\u001b[39m,names\u001b[38;5;241m=\u001b[39mcolumn_names[\u001b[38;5;241m32\u001b[39m:\u001b[38;5;241m48\u001b[39m])\n",
      "File \u001b[0;32m~/anaconda3/lib/python3.10/site-packages/pandas/util/_decorators.py:211\u001b[0m, in \u001b[0;36mdeprecate_kwarg.<locals>._deprecate_kwarg.<locals>.wrapper\u001b[0;34m(*args, **kwargs)\u001b[0m\n\u001b[1;32m    209\u001b[0m     \u001b[38;5;28;01melse\u001b[39;00m:\n\u001b[1;32m    210\u001b[0m         kwargs[new_arg_name] \u001b[38;5;241m=\u001b[39m new_arg_value\n\u001b[0;32m--> 211\u001b[0m \u001b[38;5;28;01mreturn\u001b[39;00m \u001b[43mfunc\u001b[49m\u001b[43m(\u001b[49m\u001b[38;5;241;43m*\u001b[39;49m\u001b[43margs\u001b[49m\u001b[43m,\u001b[49m\u001b[43m \u001b[49m\u001b[38;5;241;43m*\u001b[39;49m\u001b[38;5;241;43m*\u001b[39;49m\u001b[43mkwargs\u001b[49m\u001b[43m)\u001b[49m\n",
      "File \u001b[0;32m~/anaconda3/lib/python3.10/site-packages/pandas/util/_decorators.py:331\u001b[0m, in \u001b[0;36mdeprecate_nonkeyword_arguments.<locals>.decorate.<locals>.wrapper\u001b[0;34m(*args, **kwargs)\u001b[0m\n\u001b[1;32m    325\u001b[0m \u001b[38;5;28;01mif\u001b[39;00m \u001b[38;5;28mlen\u001b[39m(args) \u001b[38;5;241m>\u001b[39m num_allow_args:\n\u001b[1;32m    326\u001b[0m     warnings\u001b[38;5;241m.\u001b[39mwarn(\n\u001b[1;32m    327\u001b[0m         msg\u001b[38;5;241m.\u001b[39mformat(arguments\u001b[38;5;241m=\u001b[39m_format_argument_list(allow_args)),\n\u001b[1;32m    328\u001b[0m         \u001b[38;5;167;01mFutureWarning\u001b[39;00m,\n\u001b[1;32m    329\u001b[0m         stacklevel\u001b[38;5;241m=\u001b[39mfind_stack_level(),\n\u001b[1;32m    330\u001b[0m     )\n\u001b[0;32m--> 331\u001b[0m \u001b[38;5;28;01mreturn\u001b[39;00m \u001b[43mfunc\u001b[49m\u001b[43m(\u001b[49m\u001b[38;5;241;43m*\u001b[39;49m\u001b[43margs\u001b[49m\u001b[43m,\u001b[49m\u001b[43m \u001b[49m\u001b[38;5;241;43m*\u001b[39;49m\u001b[38;5;241;43m*\u001b[39;49m\u001b[43mkwargs\u001b[49m\u001b[43m)\u001b[49m\n",
      "File \u001b[0;32m~/anaconda3/lib/python3.10/site-packages/pandas/io/parsers/readers.py:950\u001b[0m, in \u001b[0;36mread_csv\u001b[0;34m(filepath_or_buffer, sep, delimiter, header, names, index_col, usecols, squeeze, prefix, mangle_dupe_cols, dtype, engine, converters, true_values, false_values, skipinitialspace, skiprows, skipfooter, nrows, na_values, keep_default_na, na_filter, verbose, skip_blank_lines, parse_dates, infer_datetime_format, keep_date_col, date_parser, dayfirst, cache_dates, iterator, chunksize, compression, thousands, decimal, lineterminator, quotechar, quoting, doublequote, escapechar, comment, encoding, encoding_errors, dialect, error_bad_lines, warn_bad_lines, on_bad_lines, delim_whitespace, low_memory, memory_map, float_precision, storage_options)\u001b[0m\n\u001b[1;32m    935\u001b[0m kwds_defaults \u001b[38;5;241m=\u001b[39m _refine_defaults_read(\n\u001b[1;32m    936\u001b[0m     dialect,\n\u001b[1;32m    937\u001b[0m     delimiter,\n\u001b[0;32m   (...)\u001b[0m\n\u001b[1;32m    946\u001b[0m     defaults\u001b[38;5;241m=\u001b[39m{\u001b[38;5;124m\"\u001b[39m\u001b[38;5;124mdelimiter\u001b[39m\u001b[38;5;124m\"\u001b[39m: \u001b[38;5;124m\"\u001b[39m\u001b[38;5;124m,\u001b[39m\u001b[38;5;124m\"\u001b[39m},\n\u001b[1;32m    947\u001b[0m )\n\u001b[1;32m    948\u001b[0m kwds\u001b[38;5;241m.\u001b[39mupdate(kwds_defaults)\n\u001b[0;32m--> 950\u001b[0m \u001b[38;5;28;01mreturn\u001b[39;00m \u001b[43m_read\u001b[49m\u001b[43m(\u001b[49m\u001b[43mfilepath_or_buffer\u001b[49m\u001b[43m,\u001b[49m\u001b[43m \u001b[49m\u001b[43mkwds\u001b[49m\u001b[43m)\u001b[49m\n",
      "File \u001b[0;32m~/anaconda3/lib/python3.10/site-packages/pandas/io/parsers/readers.py:605\u001b[0m, in \u001b[0;36m_read\u001b[0;34m(filepath_or_buffer, kwds)\u001b[0m\n\u001b[1;32m    602\u001b[0m _validate_names(kwds\u001b[38;5;241m.\u001b[39mget(\u001b[38;5;124m\"\u001b[39m\u001b[38;5;124mnames\u001b[39m\u001b[38;5;124m\"\u001b[39m, \u001b[38;5;28;01mNone\u001b[39;00m))\n\u001b[1;32m    604\u001b[0m \u001b[38;5;66;03m# Create the parser.\u001b[39;00m\n\u001b[0;32m--> 605\u001b[0m parser \u001b[38;5;241m=\u001b[39m \u001b[43mTextFileReader\u001b[49m\u001b[43m(\u001b[49m\u001b[43mfilepath_or_buffer\u001b[49m\u001b[43m,\u001b[49m\u001b[43m \u001b[49m\u001b[38;5;241;43m*\u001b[39;49m\u001b[38;5;241;43m*\u001b[39;49m\u001b[43mkwds\u001b[49m\u001b[43m)\u001b[49m\n\u001b[1;32m    607\u001b[0m \u001b[38;5;28;01mif\u001b[39;00m chunksize \u001b[38;5;129;01mor\u001b[39;00m iterator:\n\u001b[1;32m    608\u001b[0m     \u001b[38;5;28;01mreturn\u001b[39;00m parser\n",
      "File \u001b[0;32m~/anaconda3/lib/python3.10/site-packages/pandas/io/parsers/readers.py:1442\u001b[0m, in \u001b[0;36mTextFileReader.__init__\u001b[0;34m(self, f, engine, **kwds)\u001b[0m\n\u001b[1;32m   1439\u001b[0m     \u001b[38;5;28mself\u001b[39m\u001b[38;5;241m.\u001b[39moptions[\u001b[38;5;124m\"\u001b[39m\u001b[38;5;124mhas_index_names\u001b[39m\u001b[38;5;124m\"\u001b[39m] \u001b[38;5;241m=\u001b[39m kwds[\u001b[38;5;124m\"\u001b[39m\u001b[38;5;124mhas_index_names\u001b[39m\u001b[38;5;124m\"\u001b[39m]\n\u001b[1;32m   1441\u001b[0m \u001b[38;5;28mself\u001b[39m\u001b[38;5;241m.\u001b[39mhandles: IOHandles \u001b[38;5;241m|\u001b[39m \u001b[38;5;28;01mNone\u001b[39;00m \u001b[38;5;241m=\u001b[39m \u001b[38;5;28;01mNone\u001b[39;00m\n\u001b[0;32m-> 1442\u001b[0m \u001b[38;5;28mself\u001b[39m\u001b[38;5;241m.\u001b[39m_engine \u001b[38;5;241m=\u001b[39m \u001b[38;5;28;43mself\u001b[39;49m\u001b[38;5;241;43m.\u001b[39;49m\u001b[43m_make_engine\u001b[49m\u001b[43m(\u001b[49m\u001b[43mf\u001b[49m\u001b[43m,\u001b[49m\u001b[43m \u001b[49m\u001b[38;5;28;43mself\u001b[39;49m\u001b[38;5;241;43m.\u001b[39;49m\u001b[43mengine\u001b[49m\u001b[43m)\u001b[49m\n",
      "File \u001b[0;32m~/anaconda3/lib/python3.10/site-packages/pandas/io/parsers/readers.py:1735\u001b[0m, in \u001b[0;36mTextFileReader._make_engine\u001b[0;34m(self, f, engine)\u001b[0m\n\u001b[1;32m   1733\u001b[0m     \u001b[38;5;28;01mif\u001b[39;00m \u001b[38;5;124m\"\u001b[39m\u001b[38;5;124mb\u001b[39m\u001b[38;5;124m\"\u001b[39m \u001b[38;5;129;01mnot\u001b[39;00m \u001b[38;5;129;01min\u001b[39;00m mode:\n\u001b[1;32m   1734\u001b[0m         mode \u001b[38;5;241m+\u001b[39m\u001b[38;5;241m=\u001b[39m \u001b[38;5;124m\"\u001b[39m\u001b[38;5;124mb\u001b[39m\u001b[38;5;124m\"\u001b[39m\n\u001b[0;32m-> 1735\u001b[0m \u001b[38;5;28mself\u001b[39m\u001b[38;5;241m.\u001b[39mhandles \u001b[38;5;241m=\u001b[39m \u001b[43mget_handle\u001b[49m\u001b[43m(\u001b[49m\n\u001b[1;32m   1736\u001b[0m \u001b[43m    \u001b[49m\u001b[43mf\u001b[49m\u001b[43m,\u001b[49m\n\u001b[1;32m   1737\u001b[0m \u001b[43m    \u001b[49m\u001b[43mmode\u001b[49m\u001b[43m,\u001b[49m\n\u001b[1;32m   1738\u001b[0m \u001b[43m    \u001b[49m\u001b[43mencoding\u001b[49m\u001b[38;5;241;43m=\u001b[39;49m\u001b[38;5;28;43mself\u001b[39;49m\u001b[38;5;241;43m.\u001b[39;49m\u001b[43moptions\u001b[49m\u001b[38;5;241;43m.\u001b[39;49m\u001b[43mget\u001b[49m\u001b[43m(\u001b[49m\u001b[38;5;124;43m\"\u001b[39;49m\u001b[38;5;124;43mencoding\u001b[39;49m\u001b[38;5;124;43m\"\u001b[39;49m\u001b[43m,\u001b[49m\u001b[43m \u001b[49m\u001b[38;5;28;43;01mNone\u001b[39;49;00m\u001b[43m)\u001b[49m\u001b[43m,\u001b[49m\n\u001b[1;32m   1739\u001b[0m \u001b[43m    \u001b[49m\u001b[43mcompression\u001b[49m\u001b[38;5;241;43m=\u001b[39;49m\u001b[38;5;28;43mself\u001b[39;49m\u001b[38;5;241;43m.\u001b[39;49m\u001b[43moptions\u001b[49m\u001b[38;5;241;43m.\u001b[39;49m\u001b[43mget\u001b[49m\u001b[43m(\u001b[49m\u001b[38;5;124;43m\"\u001b[39;49m\u001b[38;5;124;43mcompression\u001b[39;49m\u001b[38;5;124;43m\"\u001b[39;49m\u001b[43m,\u001b[49m\u001b[43m \u001b[49m\u001b[38;5;28;43;01mNone\u001b[39;49;00m\u001b[43m)\u001b[49m\u001b[43m,\u001b[49m\n\u001b[1;32m   1740\u001b[0m \u001b[43m    \u001b[49m\u001b[43mmemory_map\u001b[49m\u001b[38;5;241;43m=\u001b[39;49m\u001b[38;5;28;43mself\u001b[39;49m\u001b[38;5;241;43m.\u001b[39;49m\u001b[43moptions\u001b[49m\u001b[38;5;241;43m.\u001b[39;49m\u001b[43mget\u001b[49m\u001b[43m(\u001b[49m\u001b[38;5;124;43m\"\u001b[39;49m\u001b[38;5;124;43mmemory_map\u001b[39;49m\u001b[38;5;124;43m\"\u001b[39;49m\u001b[43m,\u001b[49m\u001b[43m \u001b[49m\u001b[38;5;28;43;01mFalse\u001b[39;49;00m\u001b[43m)\u001b[49m\u001b[43m,\u001b[49m\n\u001b[1;32m   1741\u001b[0m \u001b[43m    \u001b[49m\u001b[43mis_text\u001b[49m\u001b[38;5;241;43m=\u001b[39;49m\u001b[43mis_text\u001b[49m\u001b[43m,\u001b[49m\n\u001b[1;32m   1742\u001b[0m \u001b[43m    \u001b[49m\u001b[43merrors\u001b[49m\u001b[38;5;241;43m=\u001b[39;49m\u001b[38;5;28;43mself\u001b[39;49m\u001b[38;5;241;43m.\u001b[39;49m\u001b[43moptions\u001b[49m\u001b[38;5;241;43m.\u001b[39;49m\u001b[43mget\u001b[49m\u001b[43m(\u001b[49m\u001b[38;5;124;43m\"\u001b[39;49m\u001b[38;5;124;43mencoding_errors\u001b[39;49m\u001b[38;5;124;43m\"\u001b[39;49m\u001b[43m,\u001b[49m\u001b[43m \u001b[49m\u001b[38;5;124;43m\"\u001b[39;49m\u001b[38;5;124;43mstrict\u001b[39;49m\u001b[38;5;124;43m\"\u001b[39;49m\u001b[43m)\u001b[49m\u001b[43m,\u001b[49m\n\u001b[1;32m   1743\u001b[0m \u001b[43m    \u001b[49m\u001b[43mstorage_options\u001b[49m\u001b[38;5;241;43m=\u001b[39;49m\u001b[38;5;28;43mself\u001b[39;49m\u001b[38;5;241;43m.\u001b[39;49m\u001b[43moptions\u001b[49m\u001b[38;5;241;43m.\u001b[39;49m\u001b[43mget\u001b[49m\u001b[43m(\u001b[49m\u001b[38;5;124;43m\"\u001b[39;49m\u001b[38;5;124;43mstorage_options\u001b[39;49m\u001b[38;5;124;43m\"\u001b[39;49m\u001b[43m,\u001b[49m\u001b[43m \u001b[49m\u001b[38;5;28;43;01mNone\u001b[39;49;00m\u001b[43m)\u001b[49m\u001b[43m,\u001b[49m\n\u001b[1;32m   1744\u001b[0m \u001b[43m\u001b[49m\u001b[43m)\u001b[49m\n\u001b[1;32m   1745\u001b[0m \u001b[38;5;28;01massert\u001b[39;00m \u001b[38;5;28mself\u001b[39m\u001b[38;5;241m.\u001b[39mhandles \u001b[38;5;129;01mis\u001b[39;00m \u001b[38;5;129;01mnot\u001b[39;00m \u001b[38;5;28;01mNone\u001b[39;00m\n\u001b[1;32m   1746\u001b[0m f \u001b[38;5;241m=\u001b[39m \u001b[38;5;28mself\u001b[39m\u001b[38;5;241m.\u001b[39mhandles\u001b[38;5;241m.\u001b[39mhandle\n",
      "File \u001b[0;32m~/anaconda3/lib/python3.10/site-packages/pandas/io/common.py:856\u001b[0m, in \u001b[0;36mget_handle\u001b[0;34m(path_or_buf, mode, encoding, compression, memory_map, is_text, errors, storage_options)\u001b[0m\n\u001b[1;32m    851\u001b[0m \u001b[38;5;28;01melif\u001b[39;00m \u001b[38;5;28misinstance\u001b[39m(handle, \u001b[38;5;28mstr\u001b[39m):\n\u001b[1;32m    852\u001b[0m     \u001b[38;5;66;03m# Check whether the filename is to be opened in binary mode.\u001b[39;00m\n\u001b[1;32m    853\u001b[0m     \u001b[38;5;66;03m# Binary mode does not support 'encoding' and 'newline'.\u001b[39;00m\n\u001b[1;32m    854\u001b[0m     \u001b[38;5;28;01mif\u001b[39;00m ioargs\u001b[38;5;241m.\u001b[39mencoding \u001b[38;5;129;01mand\u001b[39;00m \u001b[38;5;124m\"\u001b[39m\u001b[38;5;124mb\u001b[39m\u001b[38;5;124m\"\u001b[39m \u001b[38;5;129;01mnot\u001b[39;00m \u001b[38;5;129;01min\u001b[39;00m ioargs\u001b[38;5;241m.\u001b[39mmode:\n\u001b[1;32m    855\u001b[0m         \u001b[38;5;66;03m# Encoding\u001b[39;00m\n\u001b[0;32m--> 856\u001b[0m         handle \u001b[38;5;241m=\u001b[39m \u001b[38;5;28;43mopen\u001b[39;49m\u001b[43m(\u001b[49m\n\u001b[1;32m    857\u001b[0m \u001b[43m            \u001b[49m\u001b[43mhandle\u001b[49m\u001b[43m,\u001b[49m\n\u001b[1;32m    858\u001b[0m \u001b[43m            \u001b[49m\u001b[43mioargs\u001b[49m\u001b[38;5;241;43m.\u001b[39;49m\u001b[43mmode\u001b[49m\u001b[43m,\u001b[49m\n\u001b[1;32m    859\u001b[0m \u001b[43m            \u001b[49m\u001b[43mencoding\u001b[49m\u001b[38;5;241;43m=\u001b[39;49m\u001b[43mioargs\u001b[49m\u001b[38;5;241;43m.\u001b[39;49m\u001b[43mencoding\u001b[49m\u001b[43m,\u001b[49m\n\u001b[1;32m    860\u001b[0m \u001b[43m            \u001b[49m\u001b[43merrors\u001b[49m\u001b[38;5;241;43m=\u001b[39;49m\u001b[43merrors\u001b[49m\u001b[43m,\u001b[49m\n\u001b[1;32m    861\u001b[0m \u001b[43m            \u001b[49m\u001b[43mnewline\u001b[49m\u001b[38;5;241;43m=\u001b[39;49m\u001b[38;5;124;43m\"\u001b[39;49m\u001b[38;5;124;43m\"\u001b[39;49m\u001b[43m,\u001b[49m\n\u001b[1;32m    862\u001b[0m \u001b[43m        \u001b[49m\u001b[43m)\u001b[49m\n\u001b[1;32m    863\u001b[0m     \u001b[38;5;28;01melse\u001b[39;00m:\n\u001b[1;32m    864\u001b[0m         \u001b[38;5;66;03m# Binary mode\u001b[39;00m\n\u001b[1;32m    865\u001b[0m         handle \u001b[38;5;241m=\u001b[39m \u001b[38;5;28mopen\u001b[39m(handle, ioargs\u001b[38;5;241m.\u001b[39mmode)\n",
      "\u001b[0;31mFileNotFoundError\u001b[0m: [Errno 2] No such file or directory: 'data_files/2023_05_16_160MHz/c0_fstep_000_cstep_001/ddmtd1.txt'"
     ]
    }
   ],
   "source": [
    "# tie,tie_err = plot_data(0\n",
    "#                  ,1\n",
    "#                  ,channel=channel\n",
    "#                  ,folder=folder_name\n",
    "#                  ,freq = freq*10**6\n",
    "#                  ,data_stream = (11,7)\n",
    "#                  ,draw=True\n",
    "#                     )"
   ]
  },
  {
   "cell_type": "code",
   "execution_count": 22,
   "id": "301a3a11",
   "metadata": {},
   "outputs": [],
   "source": [
    "#folder_name = f\"2022_05_01_{freq}MHz\""
   ]
  },
  {
   "cell_type": "code",
   "execution_count": 23,
   "id": "704aa7b6",
   "metadata": {},
   "outputs": [],
   "source": [
    "#get_data(0,7,channel=channel,folder=folder_name,aq_iter=100)"
   ]
  },
  {
   "cell_type": "code",
   "execution_count": null,
   "id": "0e40692f",
   "metadata": {
    "scrolled": true
   },
   "outputs": [],
   "source": [
    "# X  = []\n",
    "# Y  = []\n",
    "# Ye = []\n",
    "# for c_step in range(0,32):\n",
    "#     try:\n",
    "#         tie,tie_err = plot_data(0\n",
    "#              ,c_step\n",
    "#              ,channel=channel\n",
    "#              ,folder=folder_name\n",
    "#              ,freq = freq*10**6\n",
    "#              ,data_stream = (2,10)\n",
    "#              ,draw=False\n",
    "#                 )\n",
    "#         X.append(c_step)\n",
    "#         Y.append(tie)\n",
    "#         Ye.append(tie_err)\n",
    "#     except:\n",
    "#         print(f\"{c_step} lost\")"
   ]
  },
  {
   "cell_type": "code",
   "execution_count": null,
   "id": "2e287eae",
   "metadata": {},
   "outputs": [],
   "source": [
    "# np.diff(Y)"
   ]
  },
  {
   "cell_type": "code",
   "execution_count": null,
   "id": "635bcb5e",
   "metadata": {},
   "outputs": [],
   "source": [
    "# Y"
   ]
  },
  {
   "cell_type": "code",
   "execution_count": null,
   "id": "2c6fb0a4",
   "metadata": {},
   "outputs": [],
   "source": [
    "# x = np.asarray(X)\n",
    "# y = np.abs(np.asarray(Y) - Y[0])\n",
    "# y_err = np.asarray(Ye)\n",
    "# f,ax = plt.subplots()\n",
    "\n",
    "# popt,pcov = np.polyfit(x,y,1,cov=True)\n",
    "# p_e = np.sqrt(np.diag(pcov))\n",
    "\n",
    "# ax.scatter(x,y)\n",
    "# ax.plot(x,popt[0]*x+popt[1],color=\"r\",linestyle='--',label=f\"Channel 0 \\n{popt[0]:4.3}+/- {p_e[0]:4.2} [ps/step]\")\n",
    "# ax.set_ylabel(\"Delay [ps]\")\n",
    "# ax.set_xlabel(\"Coarse Step\")\n",
    "# ax.legend(loc=\"upper left\",fontsize=10)"
   ]
  },
  {
   "cell_type": "code",
   "execution_count": null,
   "id": "66a85eab",
   "metadata": {},
   "outputs": [],
   "source": [
    "\n",
    "# X  = []\n",
    "# Y  = []\n",
    "# Ye = []\n",
    "# for c_step in (0,1,2,4,8,16):\n",
    "#     try:\n",
    "#         tie,tie_err = plot_data(0\n",
    "#              ,c_step\n",
    "#              ,channel=channel\n",
    "#              ,folder=folder_name\n",
    "#              ,freq = freq*10**6\n",
    "#              ,data_stream = (2,10)\n",
    "#              ,draw=False\n",
    "#                 )\n",
    "#         X.append(c_step)\n",
    "#         Y.append(tie)\n",
    "#         Ye.append(tie_err)\n",
    "#     except:\n",
    "#         print(f\"{c_step} lost\")"
   ]
  },
  {
   "cell_type": "code",
   "execution_count": null,
   "id": "256091b6",
   "metadata": {},
   "outputs": [],
   "source": [
    "# np.abs(Y-Y[0])"
   ]
  },
  {
   "cell_type": "code",
   "execution_count": null,
   "id": "cbcc2234",
   "metadata": {},
   "outputs": [],
   "source": []
  },
  {
   "cell_type": "code",
   "execution_count": null,
   "id": "c4dce2f6",
   "metadata": {},
   "outputs": [],
   "source": []
  },
  {
   "cell_type": "code",
   "execution_count": null,
   "id": "49da0813",
   "metadata": {},
   "outputs": [],
   "source": []
  },
  {
   "cell_type": "code",
   "execution_count": null,
   "id": "6e51691b",
   "metadata": {},
   "outputs": [],
   "source": []
  },
  {
   "cell_type": "code",
   "execution_count": null,
   "id": "ff68fd99",
   "metadata": {},
   "outputs": [],
   "source": []
  },
  {
   "cell_type": "code",
   "execution_count": null,
   "id": "4b4f504f",
   "metadata": {},
   "outputs": [],
   "source": []
  },
  {
   "cell_type": "code",
   "execution_count": null,
   "id": "c096ef83",
   "metadata": {},
   "outputs": [],
   "source": []
  },
  {
   "cell_type": "code",
   "execution_count": null,
   "id": "ee040365",
   "metadata": {
    "scrolled": true
   },
   "outputs": [],
   "source": [
    "# data = {}\n",
    "# # folder_name = f\"2022_04_12_{freq}MHz\"\n",
    "# folder_name = f\"2022_05_01_{freq}MHz\"\n",
    "\n",
    "\n",
    "# for chan in (3,6,7,10,11):\n",
    "#     X  = []\n",
    "#     Y  = []\n",
    "#     Ye = []\n",
    "#     for c_step in (0,16):\n",
    "#         try:\n",
    "#             tie,tie_err = plot_data(0\n",
    "#                  ,c_step\n",
    "#                  ,channel=channel\n",
    "#                  ,folder=folder_name\n",
    "#                  ,freq = freq*10**6\n",
    "#                  ,data_stream = (2,chan)\n",
    "#                  ,draw=False\n",
    "#                     )\n",
    "#             X.append(c_step)\n",
    "#             Y.append(tie)\n",
    "#             Ye.append(tie_err)\n",
    "#         except:\n",
    "#             print(f\"{c_step} lost\")\n",
    "    \n",
    "#     data[f\"chan{chan}\"] = np.asarray((X,Y,Ye))\n",
    "# #2,3\n",
    "# #6,7\n",
    "# #10,11\n"
   ]
  },
  {
   "cell_type": "code",
   "execution_count": null,
   "id": "64082a1c",
   "metadata": {},
   "outputs": [],
   "source": [
    "# !open .\n"
   ]
  },
  {
   "cell_type": "code",
   "execution_count": 25,
   "id": "53475fb0",
   "metadata": {},
   "outputs": [
    {
     "ename": "NameError",
     "evalue": "name 'data' is not defined",
     "output_type": "error",
     "traceback": [
      "\u001b[0;31m---------------------------------------------------------------------------\u001b[0m",
      "\u001b[0;31mNameError\u001b[0m                                 Traceback (most recent call last)",
      "Cell \u001b[0;32mIn[25], line 1\u001b[0m\n\u001b[0;32m----> 1\u001b[0m \u001b[38;5;28;01mfor\u001b[39;00m i \u001b[38;5;129;01min\u001b[39;00m \u001b[43mdata\u001b[49m\u001b[38;5;241m.\u001b[39mkeys():\n\u001b[1;32m      2\u001b[0m     X \u001b[38;5;241m=\u001b[39m data[i][\u001b[38;5;241m0\u001b[39m]\u001b[38;5;241m*\u001b[39m\u001b[38;5;241m8\u001b[39m\n\u001b[1;32m      3\u001b[0m     Y \u001b[38;5;241m=\u001b[39m data[i][\u001b[38;5;241m1\u001b[39m]\n",
      "\u001b[0;31mNameError\u001b[0m: name 'data' is not defined"
     ]
    }
   ],
   "source": [
    "for i in data.keys():\n",
    "    X = data[i][0]*8\n",
    "    Y = data[i][1]\n",
    "#     print(Y)\n",
    "    try:\n",
    "        print(f\"{i}\\t{np.abs(np.diff(Y))[0]:5.5f}ps\")\n",
    "    except:\n",
    "        print(f\"{i}   lost\")"
   ]
  },
  {
   "cell_type": "code",
   "execution_count": 23,
   "id": "889172f7",
   "metadata": {
    "scrolled": false
   },
   "outputs": [
    {
     "ename": "NameError",
     "evalue": "name 'data' is not defined",
     "output_type": "error",
     "traceback": [
      "\u001b[0;31m---------------------------------------------------------------------------\u001b[0m",
      "\u001b[0;31mNameError\u001b[0m                                 Traceback (most recent call last)",
      "Cell \u001b[0;32mIn[23], line 2\u001b[0m\n\u001b[1;32m      1\u001b[0m \u001b[38;5;66;03m# f,ax = plt.subplots(figsize=(8,6))\u001b[39;00m\n\u001b[0;32m----> 2\u001b[0m \u001b[38;5;28;01mfor\u001b[39;00m i \u001b[38;5;129;01min\u001b[39;00m \u001b[43mdata\u001b[49m\u001b[38;5;241m.\u001b[39mkeys():\n\u001b[1;32m      3\u001b[0m     f,ax \u001b[38;5;241m=\u001b[39m plt\u001b[38;5;241m.\u001b[39msubplots(figsize\u001b[38;5;241m=\u001b[39m(\u001b[38;5;241m8\u001b[39m,\u001b[38;5;241m6\u001b[39m))\n\u001b[1;32m      5\u001b[0m     X \u001b[38;5;241m=\u001b[39m data[i][\u001b[38;5;241m0\u001b[39m]\u001b[38;5;241m*\u001b[39m\u001b[38;5;241m8\u001b[39m\n",
      "\u001b[0;31mNameError\u001b[0m: name 'data' is not defined"
     ]
    }
   ],
   "source": [
    "# f,ax = plt.subplots(figsize=(8,6))\n",
    "for i in data.keys():\n",
    "    f,ax = plt.subplots(figsize=(8,6))\n",
    "\n",
    "    X = data[i][0]*8\n",
    "    Y = data[i][1]\n",
    "#     Ye = data[i][2]\n",
    "    ax.scatter(X,Y)\n",
    "    \n",
    "    print(i)\n",
    "    ax.set_xlabel(\"ps\")"
   ]
  },
  {
   "cell_type": "code",
   "execution_count": null,
   "id": "f5e228ad",
   "metadata": {},
   "outputs": [],
   "source": [
    "# data[\"chan3\"][1]"
   ]
  },
  {
   "cell_type": "code",
   "execution_count": 24,
   "id": "42413106",
   "metadata": {},
   "outputs": [
    {
     "ename": "NameError",
     "evalue": "name 'data' is not defined",
     "output_type": "error",
     "traceback": [
      "\u001b[0;31m---------------------------------------------------------------------------\u001b[0m",
      "\u001b[0;31mNameError\u001b[0m                                 Traceback (most recent call last)",
      "Cell \u001b[0;32mIn[24], line 1\u001b[0m\n\u001b[0;32m----> 1\u001b[0m X \u001b[38;5;241m=\u001b[39m np\u001b[38;5;241m.\u001b[39masarray(\u001b[43mdata\u001b[49m)\u001b[38;5;241m.\u001b[39mT[\u001b[38;5;241m0\u001b[39m]\n\u001b[1;32m      2\u001b[0m Y \u001b[38;5;241m=\u001b[39m np\u001b[38;5;241m.\u001b[39masarray(data)\u001b[38;5;241m.\u001b[39mT[\u001b[38;5;241m1\u001b[39m]\n\u001b[1;32m      3\u001b[0m Ye \u001b[38;5;241m=\u001b[39m np\u001b[38;5;241m.\u001b[39masarray(data)\u001b[38;5;241m.\u001b[39mT[\u001b[38;5;241m2\u001b[39m]\n",
      "\u001b[0;31mNameError\u001b[0m: name 'data' is not defined"
     ]
    }
   ],
   "source": [
    "X = np.asarray(data).T[0]\n",
    "Y = np.asarray(data).T[1]\n",
    "Ye = np.asarray(data).T[2]\n",
    "\n",
    "\n",
    "\n",
    "plt.scatter(X[X>20],Y[X>20])\n",
    "plt.scatter(X,Y)"
   ]
  },
  {
   "cell_type": "code",
   "execution_count": null,
   "id": "ad4dcf07",
   "metadata": {
    "scrolled": true
   },
   "outputs": [],
   "source": [
    "# data = []\n",
    "# for c_step in range(0,32):\n",
    "#     try:\n",
    "#         tie,tie_err = plot_data(0\n",
    "#                  ,c_step\n",
    "#                  ,channel=10\n",
    "#                  ,folder=folder_name\n",
    "#                  ,freq = freq*10**6\n",
    "#                  ,data_stream = (2,6)\n",
    "#                  ,draw=False\n",
    "#                     )\n",
    "#         data.append((c_step,tie,tie_err))\n",
    "#     except:\n",
    "#         print(f\"{c_step} lost\")\n",
    "#2,3\n",
    "#6,7\n",
    "#10,11\n",
    "\n"
   ]
  },
  {
   "cell_type": "code",
   "execution_count": null,
   "id": "93d5c0be",
   "metadata": {},
   "outputs": [],
   "source": [
    "# folder_name = f\"2022_04_14_{freq}MHz\"\n",
    "# for i in range(0,32):\n",
    "#     get_data(i,0,channel=10,folder=folder_name,aq_iter=100)"
   ]
  },
  {
   "cell_type": "code",
   "execution_count": null,
   "id": "2ac2bc04",
   "metadata": {},
   "outputs": [],
   "source": []
  },
  {
   "cell_type": "code",
   "execution_count": null,
   "id": "71f11e65",
   "metadata": {},
   "outputs": [],
   "source": []
  },
  {
   "cell_type": "code",
   "execution_count": null,
   "id": "161aa053",
   "metadata": {},
   "outputs": [],
   "source": []
  },
  {
   "cell_type": "code",
   "execution_count": null,
   "id": "adeae81a",
   "metadata": {},
   "outputs": [],
   "source": []
  },
  {
   "cell_type": "code",
   "execution_count": null,
   "id": "1b54ee73",
   "metadata": {},
   "outputs": [],
   "source": []
  },
  {
   "cell_type": "code",
   "execution_count": null,
   "id": "bd490bc9",
   "metadata": {},
   "outputs": [],
   "source": []
  },
  {
   "cell_type": "code",
   "execution_count": null,
   "id": "30cabd51",
   "metadata": {},
   "outputs": [],
   "source": []
  },
  {
   "cell_type": "code",
   "execution_count": null,
   "id": "a27c4876",
   "metadata": {},
   "outputs": [],
   "source": []
  },
  {
   "cell_type": "code",
   "execution_count": null,
   "id": "2175b3b8",
   "metadata": {},
   "outputs": [],
   "source": []
  },
  {
   "cell_type": "code",
   "execution_count": null,
   "id": "b18c0eab",
   "metadata": {},
   "outputs": [],
   "source": []
  },
  {
   "cell_type": "code",
   "execution_count": null,
   "id": "b5b609d6",
   "metadata": {},
   "outputs": [],
   "source": []
  },
  {
   "cell_type": "code",
   "execution_count": null,
   "id": "c9bc5ee2",
   "metadata": {},
   "outputs": [],
   "source": []
  },
  {
   "cell_type": "code",
   "execution_count": null,
   "id": "6929fe3b",
   "metadata": {},
   "outputs": [],
   "source": []
  }
 ],
 "metadata": {
  "kernelspec": {
   "display_name": "Python 3 (ipykernel)",
   "language": "python",
   "name": "python3"
  },
  "language_info": {
   "codemirror_mode": {
    "name": "ipython",
    "version": 3
   },
   "file_extension": ".py",
   "mimetype": "text/x-python",
   "name": "python",
   "nbconvert_exporter": "python",
   "pygments_lexer": "ipython3",
   "version": "3.10.9"
  }
 },
 "nbformat": 4,
 "nbformat_minor": 5
}
